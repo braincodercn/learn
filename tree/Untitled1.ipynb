{
 "cells": [
  {
   "cell_type": "code",
   "execution_count": 26,
   "metadata": {},
   "outputs": [],
   "source": [
    "class Node(object): \n",
    "    def __init_(self, ID, Parent_ID, Children_IDs):\n",
    "        self._ID = ID\n",
    "        self._Parent_ID = Parent_ID\n",
    "        self._Children_IDs = Children_IDs\n",
    "        \n",
    "    def ID(self):\n",
    "        return self._ID;\n",
    "    \n",
    "    def Parent(self):\n",
    "        return self._Parent_ID\n",
    "    \n",
    "    def Children(self):\n",
    "        return self._Children_IDs"
   ]
  },
  {
   "cell_type": "code",
   "execution_count": 3,
   "metadata": {},
   "outputs": [],
   "source": [
    "dic = {'440000':'广东省','440100':'广州市','440101':'市辖区','440103':'荔湾区','440104':'越秀区','440105':'海珠区','440106':'天河区','440111':'白云区','440112':'黄埔区',\n",
    "       '440113':'番禺区','440114':'花都区','440115':'南沙区','440117':'从化区','440118':'增城区','440200':'韶关市','440201':'市辖区', '440203':'武江区', '440204':'浈江区 ',\n",
    "       '440205':'曲江区', '440222':'始兴县', '440224':'仁化县', '440229':'翁源县', '440232':'乳源瑶族自治县', '440233':'新丰县', '440281':'乐昌市', '440282':'南雄市', \n",
    "       '440300':'深圳市', '440301':'市辖区', '440303':'罗湖区', '440304':'福田区', '440305':'南山区', '440306':'宝安区', '440307':'龙岗区', '440308':'盐田区' ,\n",
    "       '440309':'龙华区', '440310':'坪山区', '440311':'光明区', '440400':'珠海市', '440401':'市辖区', '440402':'香洲区', '440403':'斗门区', '440404':'金湾区'}"
   ]
  },
  {
   "cell_type": "code",
   "execution_count": 4,
   "metadata": {},
   "outputs": [],
   "source": [
    "TreeNode= ['440000','440100',['440103','440104','440105','440106','440111','440112','440113','440114','440115','440117','440118']]\n",
    "ID = TreeNode[1]\n",
    "Parent_ID = TreeNode[0]\n",
    "Children_IDs = TreeNode[2]"
   ]
  },
  {
   "cell_type": "code",
   "execution_count": 5,
   "metadata": {},
   "outputs": [
    {
     "data": {
      "text/plain": [
       "['440103',\n",
       " '440104',\n",
       " '440105',\n",
       " '440106',\n",
       " '440111',\n",
       " '440112',\n",
       " '440113',\n",
       " '440114',\n",
       " '440115',\n",
       " '440117',\n",
       " '440118']"
      ]
     },
     "execution_count": 5,
     "metadata": {},
     "output_type": "execute_result"
    }
   ],
   "source": [
    "Children_IDs"
   ]
  },
  {
   "cell_type": "code",
   "execution_count": 6,
   "metadata": {},
   "outputs": [
    {
     "data": {
      "text/plain": [
       "'增城区'"
      ]
     },
     "execution_count": 6,
     "metadata": {},
     "output_type": "execute_result"
    }
   ],
   "source": [
    "dic['440118']"
   ]
  },
  {
   "cell_type": "code",
   "execution_count": 27,
   "metadata": {},
   "outputs": [
    {
     "ename": "TypeError",
     "evalue": "object() takes no parameters",
     "output_type": "error",
     "traceback": [
      "\u001b[0;31m---------------------------------------------------------------------------\u001b[0m",
      "\u001b[0;31mTypeError\u001b[0m                                 Traceback (most recent call last)",
      "\u001b[0;32m<ipython-input-27-adb2714aee45>\u001b[0m in \u001b[0;36m<module>\u001b[0;34m()\u001b[0m\n\u001b[0;32m----> 1\u001b[0;31m \u001b[0mnode\u001b[0m \u001b[0;34m=\u001b[0m \u001b[0mNode\u001b[0m\u001b[0;34m(\u001b[0m\u001b[0mID\u001b[0m\u001b[0;34m,\u001b[0m \u001b[0mParent_ID\u001b[0m\u001b[0;34m,\u001b[0m \u001b[0mChildren_IDs\u001b[0m\u001b[0;34m)\u001b[0m\u001b[0;34m\u001b[0m\u001b[0m\n\u001b[0m",
      "\u001b[0;31mTypeError\u001b[0m: object() takes no parameters"
     ]
    }
   ],
   "source": [
    "node = Node(ID, Parent_ID, Children_IDs)"
   ]
  },
  {
   "cell_type": "code",
   "execution_count": 20,
   "metadata": {},
   "outputs": [
    {
     "ename": "TypeError",
     "evalue": "object() takes no parameters",
     "output_type": "error",
     "traceback": [
      "\u001b[0;31m---------------------------------------------------------------------------\u001b[0m",
      "\u001b[0;31mTypeError\u001b[0m                                 Traceback (most recent call last)",
      "\u001b[0;32m<ipython-input-20-d66d233b7727>\u001b[0m in \u001b[0;36m<module>\u001b[0;34m()\u001b[0m\n\u001b[0;32m----> 1\u001b[0;31m \u001b[0mNode\u001b[0m\u001b[0;34m(\u001b[0m\u001b[0mID\u001b[0m\u001b[0;34m,\u001b[0m \u001b[0mParent_ID\u001b[0m\u001b[0;34m,\u001b[0m \u001b[0mChildren_IDs\u001b[0m\u001b[0;34m)\u001b[0m\u001b[0;34m\u001b[0m\u001b[0m\n\u001b[0m",
      "\u001b[0;31mTypeError\u001b[0m: object() takes no parameters"
     ]
    }
   ],
   "source": [
    "Node(ID, Parent_ID, Children_IDs)"
   ]
  },
  {
   "cell_type": "code",
   "execution_count": 28,
   "metadata": {},
   "outputs": [],
   "source": [
    "class Node(object):\n",
    "    \n",
    "    def __init__(self, id, parent_id, children_ids):\n",
    "        pass"
   ]
  },
  {
   "cell_type": "code",
   "execution_count": 29,
   "metadata": {},
   "outputs": [],
   "source": [
    "node = Node(\"a\", \"parent_id\", [\"id1\", \"id2\"])"
   ]
  },
  {
   "cell_type": "code",
   "execution_count": null,
   "metadata": {},
   "outputs": [],
   "source": []
  }
 ],
 "metadata": {
  "kernelspec": {
   "display_name": "Python 3",
   "language": "python",
   "name": "python3"
  },
  "language_info": {
   "codemirror_mode": {
    "name": "ipython",
    "version": 3
   },
   "file_extension": ".py",
   "mimetype": "text/x-python",
   "name": "python",
   "nbconvert_exporter": "python",
   "pygments_lexer": "ipython3",
   "version": "3.6.6"
  }
 },
 "nbformat": 4,
 "nbformat_minor": 2
}
