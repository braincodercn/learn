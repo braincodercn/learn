{
 "cells": [
  {
   "cell_type": "code",
   "execution_count": 1,
   "metadata": {},
   "outputs": [],
   "source": [
    "import pandas as pd"
   ]
  },
  {
   "cell_type": "code",
   "execution_count": 3,
   "metadata": {},
   "outputs": [],
   "source": [
    "import numpy as np"
   ]
  },
  {
   "cell_type": "code",
   "execution_count": 4,
   "metadata": {},
   "outputs": [],
   "source": [
    "f = open(\"9001Content.txt\", 'rb')"
   ]
  },
  {
   "cell_type": "code",
   "execution_count": 5,
   "metadata": {},
   "outputs": [],
   "source": [
    "data = f.read()"
   ]
  },
  {
   "cell_type": "code",
   "execution_count": 12,
   "metadata": {},
   "outputs": [
    {
     "data": {
      "text/plain": [
       "b'\\r7B62\\x03\\x04\\x01\\x02#BUPBCG+520100000001+DAT:1.1,7966,0,0,0,0,0,0,0,0,0,0,0,0,0,0,0,0,0,0,0,0,0.00,-5.34,-81.89\\r5CD5\\x03\\x04\\x01\\x02#BUPBCG+520218100004+DAT:1.1,2855,0,0,458754,0,3,0,0,0,0,0,0,0,0,0,0,0,0,0,0,0,0.24,-2.67,83.17\\rE957\\x03\\x04\\x01\\x02#BUPBCG+520100000001+DAT:1.1,7967,0,0,0,0,0,0,0,0,0,0,0,0,0,0,0,0,0,0,0,0,-0.24,-5.10,-81.89\\r6B64\\x03\\x04\\x01\\x02#BUP\\x01\\x02#BUPBCG+520218100004+DAT:1.1,2856,0,0,458754,0,3,0,0,0,0,0,0,0,0,0,0,0,0,0,0,0,0.48,-2.67,83.17\\r2383\\x03\\x04BCG+520100000001+DAT:1.1,7968,0,0,0,0,0,0,0,0,0,0,0,0,0,0,0,0,0,0,0,0,-0.24,-5.58,-83.17\\r35DD\\x03\\x04\\x01\\x02#BUPBCG+520218100004+DAT:1.1,2857,0,0,458754,0,3,0,0,0,0,0,0,0,0,0,0,0,0,0,0,0,0.48,-2.91,81.89\\r8F63\\x03\\x04\\x01\\x02#BUPBCG+520100000001+DAT:1.1,7969,0,0,0,0,0,0,0,0,0,0,0,0,0,0,0,0,0,0,0,0,-0.24,-5.34,-83.17\\rFCF7\\x03\\x04\\x01\\x02#BUPHBT+520100000001+DAT:1.1,28,0,0\\r2F77\\x03\\x04\\x01\\x02#BUPBCG+520100000001+DAT:1.1,7970,0,0,0,0,0,0,0,0,0,0,0,0,0,0,0,0,0,0,0\\x01\\x02#BUPBCG+520218100004+DAT:1.1,2858,0,0,851973,0,3,0,0,0,0,0,0,0,0,0,0,0,0,0,0,0,0.48,-2.91,83.17\\r7EB7\\x03\\x04,0,-0.24,-5.58,-84.44\\r7069\\x03\\x04\\x01\\x02#BUPBCG+520218100004+DAT:1.'"
      ]
     },
     "execution_count": 12,
     "metadata": {},
     "output_type": "execute_result"
    }
   ],
   "source": [
    "data[:1000]"
   ]
  },
  {
   "cell_type": "code",
   "execution_count": 15,
   "metadata": {},
   "outputs": [
    {
     "data": {
      "text/plain": [
       "100"
      ]
     },
     "execution_count": 15,
     "metadata": {},
     "output_type": "execute_result"
    }
   ],
   "source": [
    "len(b'#BUPBCG+520100000001+DAT:1.1,7966,0,0,0,0,0,0,0,0,0,0,0,0,0,0,0,0,0,0,0,0,0.00,-5.34,-81.89\\r5CD5\\x03\\x04\\x01\\x02')"
   ]
  },
  {
   "cell_type": "code",
   "execution_count": 16,
   "metadata": {},
   "outputs": [
    {
     "data": {
      "text/plain": [
       "104"
      ]
     },
     "execution_count": 16,
     "metadata": {},
     "output_type": "execute_result"
    }
   ],
   "source": [
    "len(b'#BUPBCG+520218100004+DAT:1.1,2855,0,0,458754,0,3,0,0,0,0,0,0,0,0,0,0,0,0,0,0,0,0.24,-2.67,83.17\\rE957\\x03\\x04\\x01\\x02')"
   ]
  },
  {
   "cell_type": "code",
   "execution_count": null,
   "metadata": {},
   "outputs": [],
   "source": []
  }
 ],
 "metadata": {
  "kernelspec": {
   "display_name": "Python 3",
   "language": "python",
   "name": "python3"
  },
  "language_info": {
   "codemirror_mode": {
    "name": "ipython",
    "version": 3
   },
   "file_extension": ".py",
   "mimetype": "text/x-python",
   "name": "python",
   "nbconvert_exporter": "python",
   "pygments_lexer": "ipython3",
   "version": "3.6.6"
  }
 },
 "nbformat": 4,
 "nbformat_minor": 2
}
