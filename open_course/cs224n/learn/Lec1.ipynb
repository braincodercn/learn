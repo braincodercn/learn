{
 "cells": [
  {
   "cell_type": "code",
   "execution_count": 5,
   "metadata": {},
   "outputs": [
    {
     "name": "stdout",
     "output_type": "stream",
     "text": [
      "Synset('good.n.01')\n",
      "Synset('good.n.02')\n",
      "Synset('good.n.03')\n",
      "Synset('commodity.n.01')\n",
      "Synset('good.a.01')\n",
      "Synset('full.s.06')\n",
      "Synset('good.a.03')\n",
      "Synset('estimable.s.02')\n",
      "Synset('beneficial.s.01')\n",
      "Synset('good.s.06')\n",
      "Synset('good.s.07')\n",
      "Synset('adept.s.01')\n",
      "Synset('good.s.09')\n",
      "Synset('dear.s.02')\n",
      "Synset('dependable.s.04')\n",
      "Synset('good.s.12')\n",
      "Synset('good.s.13')\n",
      "Synset('effective.s.04')\n",
      "Synset('good.s.15')\n",
      "Synset('good.s.16')\n",
      "Synset('good.s.17')\n",
      "Synset('good.s.18')\n",
      "Synset('good.s.19')\n",
      "Synset('good.s.20')\n",
      "Synset('good.s.21')\n",
      "Synset('well.r.01')\n",
      "Synset('thoroughly.r.02')\n"
     ]
    }
   ],
   "source": [
    "# %load lec1.py\n",
    "\n",
    "from nltk.corpus import wordnet as wn\n",
    "poses = {\"n\": \"noun\", \"v\":\"verb\", \"s\":\"adj(s)\", 'a':\"adj\", 'r':'adv'}\n",
    "\n",
    "for synset in wn.synsets('good'):\n",
    "    print(synset)\n",
    "    #print(\"{}: {}\".format(poses[synset.pos()], \", \".join([l.name() for l in synset.lemmas()])))\n"
   ]
  },
  {
   "cell_type": "code",
   "execution_count": null,
   "metadata": {},
   "outputs": [],
   "source": []
  }
 ],
 "metadata": {
  "kernelspec": {
   "display_name": "Python 3",
   "language": "python",
   "name": "python3"
  },
  "language_info": {
   "codemirror_mode": {
    "name": "ipython",
    "version": 3
   },
   "file_extension": ".py",
   "mimetype": "text/x-python",
   "name": "python",
   "nbconvert_exporter": "python",
   "pygments_lexer": "ipython3",
   "version": "3.6.6"
  }
 },
 "nbformat": 4,
 "nbformat_minor": 2
}
